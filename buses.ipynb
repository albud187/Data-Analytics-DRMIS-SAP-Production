{
 "cells": [
  {
   "cell_type": "code",
   "execution_count": 1,
   "metadata": {},
   "outputs": [],
   "source": [
    "import pandas as pd\n",
    "import matplotlib.pyplot as plt\n",
    "import seaborn as sns\n",
    "import datetime as dt\n",
    "from datetime import date\n",
    "import time\n",
    "%matplotlib inline\n",
    "import numpy as np\n",
    "from numpy import nan"
   ]
  },
  {
   "cell_type": "code",
   "execution_count": 2,
   "metadata": {},
   "outputs": [
    {
     "name": "stderr",
     "output_type": "stream",
     "text": [
      "c:\\users\\olfoa\\appdata\\local\\programs\\python\\python36\\lib\\site-packages\\ipykernel_launcher.py:5: SettingWithCopyWarning: \n",
      "A value is trying to be set on a copy of a slice from a DataFrame\n",
      "\n",
      "See the caveats in the documentation: http://pandas.pydata.org/pandas-docs/stable/user_guide/indexing.html#returning-a-view-versus-a-copy\n",
      "  \"\"\"\n"
     ]
    }
   ],
   "source": [
    "data_folder = \"../Data-Analytics-DRMIS-SAP-Production-DATA/\"\n",
    "df = pd.read_csv(data_folder + \"DRMIS_Prod.csv\", encoding = 'ISO-8859-1')\n",
    "df = df.fillna('nil')\n",
    "for i in range(len(df['Total planned costs'])):\n",
    "    df['Total planned costs'][i] = float(df['Total planned costs'][i].replace(',',''))"
   ]
  },
  {
   "cell_type": "code",
   "execution_count": 3,
   "metadata": {},
   "outputs": [
    {
     "data": {
      "text/html": [
       "<div>\n",
       "<style scoped>\n",
       "    .dataframe tbody tr th:only-of-type {\n",
       "        vertical-align: middle;\n",
       "    }\n",
       "\n",
       "    .dataframe tbody tr th {\n",
       "        vertical-align: top;\n",
       "    }\n",
       "\n",
       "    .dataframe thead th {\n",
       "        text-align: right;\n",
       "    }\n",
       "</style>\n",
       "<table border=\"1\" class=\"dataframe\">\n",
       "  <thead>\n",
       "    <tr style=\"text-align: right;\">\n",
       "      <th></th>\n",
       "      <th>Selected line</th>\n",
       "      <th>Order</th>\n",
       "      <th>Order Type</th>\n",
       "      <th>Basic start date</th>\n",
       "      <th>Description</th>\n",
       "      <th>Total revenues act.</th>\n",
       "      <th>Total planned costs</th>\n",
       "      <th>PM Orders planned hours</th>\n",
       "      <th>Technical Status</th>\n",
       "      <th>PM Orders actual hours</th>\n",
       "      <th>...</th>\n",
       "      <th>Actual Order Finish Date</th>\n",
       "      <th>Basic finish date</th>\n",
       "      <th>MaintActivityType</th>\n",
       "      <th>Equipment</th>\n",
       "      <th>Equipment.1</th>\n",
       "      <th>Equipment Registration Number</th>\n",
       "      <th>Equipment Type</th>\n",
       "      <th>License plate number</th>\n",
       "      <th>Costing Sheet</th>\n",
       "      <th>Purchase Order Number</th>\n",
       "    </tr>\n",
       "  </thead>\n",
       "  <tbody>\n",
       "    <tr>\n",
       "      <td>0</td>\n",
       "      <td>nil</td>\n",
       "      <td>1101799516</td>\n",
       "      <td>L001</td>\n",
       "      <td>25/08/2015</td>\n",
       "      <td>SPV Repairs After Inspection</td>\n",
       "      <td>0.0</td>\n",
       "      <td>3874.12</td>\n",
       "      <td>0.0</td>\n",
       "      <td>SERV</td>\n",
       "      <td>27.5</td>\n",
       "      <td>...</td>\n",
       "      <td>nil</td>\n",
       "      <td>21/09/2015</td>\n",
       "      <td>L01</td>\n",
       "      <td>2.01107e+07</td>\n",
       "      <td>nil</td>\n",
       "      <td>33C94001</td>\n",
       "      <td>0</td>\n",
       "      <td>64956</td>\n",
       "      <td>nil</td>\n",
       "      <td>nil</td>\n",
       "    </tr>\n",
       "    <tr>\n",
       "      <td>1</td>\n",
       "      <td>nil</td>\n",
       "      <td>1102222740</td>\n",
       "      <td>L002</td>\n",
       "      <td>24/05/2016</td>\n",
       "      <td>CFCU-UKN-0274-CARGO SEA CAN INSP-30 MTH</td>\n",
       "      <td>0.0</td>\n",
       "      <td>313.71</td>\n",
       "      <td>3.0</td>\n",
       "      <td>nil</td>\n",
       "      <td>1.0</td>\n",
       "      <td>...</td>\n",
       "      <td>nil</td>\n",
       "      <td>24/05/2016</td>\n",
       "      <td>L27</td>\n",
       "      <td>2.0789e+07</td>\n",
       "      <td>nil</td>\n",
       "      <td>77392000</td>\n",
       "      <td>0</td>\n",
       "      <td>nil</td>\n",
       "      <td>nil</td>\n",
       "      <td>nil</td>\n",
       "    </tr>\n",
       "  </tbody>\n",
       "</table>\n",
       "<p>2 rows × 23 columns</p>\n",
       "</div>"
      ],
      "text/plain": [
       "  Selected line       Order Order Type Basic start date  \\\n",
       "0           nil  1101799516       L001       25/08/2015   \n",
       "1           nil  1102222740       L002       24/05/2016   \n",
       "\n",
       "                               Description  Total revenues act.  \\\n",
       "0             SPV Repairs After Inspection                  0.0   \n",
       "1  CFCU-UKN-0274-CARGO SEA CAN INSP-30 MTH                  0.0   \n",
       "\n",
       "  Total planned costs  PM Orders planned hours Technical Status  \\\n",
       "0             3874.12                      0.0             SERV   \n",
       "1              313.71                      3.0              nil   \n",
       "\n",
       "   PM Orders actual hours  ... Actual Order Finish Date Basic finish date  \\\n",
       "0                    27.5  ...                      nil        21/09/2015   \n",
       "1                     1.0  ...                      nil        24/05/2016   \n",
       "\n",
       "  MaintActivityType    Equipment Equipment.1 Equipment Registration Number  \\\n",
       "0               L01  2.01107e+07         nil                      33C94001   \n",
       "1               L27   2.0789e+07         nil                      77392000   \n",
       "\n",
       "  Equipment Type License plate number Costing Sheet  Purchase Order Number  \n",
       "0              0                64956           nil                    nil  \n",
       "1              0                  nil           nil                    nil  \n",
       "\n",
       "[2 rows x 23 columns]"
      ]
     },
     "execution_count": 3,
     "metadata": {},
     "output_type": "execute_result"
    }
   ],
   "source": [
    "df.head(2)"
   ]
  },
  {
   "cell_type": "code",
   "execution_count": 10,
   "metadata": {},
   "outputs": [
    {
     "data": {
      "text/plain": [
       "L27    1805\n",
       "L01    1779\n",
       "nil     651\n",
       "L28      28\n",
       "L02       4\n",
       "L17       3\n",
       "L03       3\n",
       "L05       3\n",
       "L16       3\n",
       "L06       1\n",
       "Name: MaintActivityType, dtype: int64"
      ]
     },
     "execution_count": 10,
     "metadata": {},
     "output_type": "execute_result"
    }
   ],
   "source": [
    "df['MaintActivityType'].value_counts()"
   ]
  },
  {
   "cell_type": "code",
   "execution_count": null,
   "metadata": {},
   "outputs": [],
   "source": [
    "'LO1 is repair'\n",
    "'L27 is inspection'"
   ]
  },
  {
   "cell_type": "code",
   "execution_count": 12,
   "metadata": {},
   "outputs": [],
   "source": [
    "CFRs = [75920, 75919, 6469, 6471, 21213]"
   ]
  },
  {
   "cell_type": "code",
   "execution_count": 13,
   "metadata": {},
   "outputs": [
    {
     "name": "stdout",
     "output_type": "stream",
     "text": [
      "CFR 75920 has 15 work orders\n",
      "CFR 75920 has 3 inspections\n",
      "CFR 75920 has 12 repairs\n",
      "CFR 75920 has 79.5 hours\n",
      "CFR 75920 has 1305.92 cost\n",
      " \n",
      "CFR 75919 has 13 work orders\n",
      "CFR 75919 has 4 inspections\n",
      "CFR 75919 has 9 repairs\n",
      "CFR 75919 has 138.0 hours\n",
      "CFR 75919 has 1315.8000000000002 cost\n",
      " \n",
      "CFR 6469 has 13 work orders\n",
      "CFR 6469 has 4 inspections\n",
      "CFR 6469 has 7 repairs\n",
      "CFR 6469 has 66.5 hours\n",
      "CFR 6469 has 1413.1000000000001 cost\n",
      " \n",
      "CFR 6471 has 15 work orders\n",
      "CFR 6471 has 3 inspections\n",
      "CFR 6471 has 11 repairs\n",
      "CFR 6471 has 41.0 hours\n",
      "CFR 6471 has 2098.17 cost\n",
      " \n",
      "CFR 21213 has 6 work orders\n",
      "CFR 21213 has 2 inspections\n",
      "CFR 21213 has 4 repairs\n",
      "CFR 21213 has 17.5 hours\n",
      "CFR 21213 has 877.2 cost\n",
      " \n"
     ]
    }
   ],
   "source": [
    "for CFR in CFRs:\n",
    "    cfr_df = df[df['License plate number']==CFR]\n",
    "    num_work_order = len(cfr_df)\n",
    "    num_hours = df[df[\"License plate number\"]==CFR]['PM Orders actual hours'].sum()\n",
    "    num_cost = df[df[\"License plate number\"]==CFR]['Total planned costs'].sum()\n",
    "    \n",
    "    num_L27 = len(cfr_df[cfr_df['MaintActivityType']=='L27'])\n",
    "    num_L01 = len(cfr_df[cfr_df['MaintActivityType']=='L01'])\n",
    "    \n",
    "    print(\"CFR \" + str(CFR) +\" has \" +str(num_work_order) +\" work orders\")\n",
    "    print(\"CFR \" + str(CFR) +\" has \" +str(num_L27) +\" inspections\")\n",
    "    print(\"CFR \" + str(CFR) +\" has \" +str(num_L01) +\" repairs\")\n",
    "    print(\"CFR \" + str(CFR) +\" has \" +str(num_hours) +\" hours\")\n",
    "    print(\"CFR \" + str(CFR) +\" has \" +str(num_cost) +\" cost\")\n",
    "    \n",
    "    print(' ')"
   ]
  },
  {
   "cell_type": "code",
   "execution_count": null,
   "metadata": {},
   "outputs": [],
   "source": []
  }
 ],
 "metadata": {
  "kernelspec": {
   "display_name": "Python 3",
   "language": "python",
   "name": "python3"
  },
  "language_info": {
   "codemirror_mode": {
    "name": "ipython",
    "version": 3
   },
   "file_extension": ".py",
   "mimetype": "text/x-python",
   "name": "python",
   "nbconvert_exporter": "python",
   "pygments_lexer": "ipython3",
   "version": "3.6.8"
  }
 },
 "nbformat": 4,
 "nbformat_minor": 4
}
