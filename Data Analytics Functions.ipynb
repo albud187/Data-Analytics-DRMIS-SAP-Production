{
 "cells": [
  {
   "cell_type": "code",
   "execution_count": 1,
   "metadata": {},
   "outputs": [],
   "source": [
    "import pandas as pd\n",
    "import matplotlib.pyplot as plt\n",
    "import seaborn as sns\n",
    "import datetime as dt\n",
    "from datetime import date\n",
    "import time\n",
    "%matplotlib inline\n",
    "import numpy as np\n",
    "from numpy import nan"
   ]
  },
  {
   "cell_type": "code",
   "execution_count": 71,
   "metadata": {},
   "outputs": [],
   "source": [
    "data_folder = \"../Data-Analytics-DRMIS-SAP-Production-DATA/\"\n",
    "df = pd.read_csv(data_folder + \"DRMIS work data.csv\", encoding = 'ISO-8859-1')\n",
    "\n",
    "def str2date(str):\n",
    "    try:\n",
    "        day = int(str[0:2])\n",
    "        month = int(str[3:5])\n",
    "        year = int(str[6:10])\n",
    "        datee = date(year, month, day)\n",
    "        return(datee)\n",
    "    except:\n",
    "        pass\n",
    "\n",
    "\n",
    "def prep_data(df):\n",
    "    df = df.fillna('nil').reset_index(drop = True)\n",
    "    days_WIP = [0]*len(df)\n",
    "    act_rel_date = list(df['Actual release date'])\n",
    "    bsc_fin_date = list(df['Basic finish date'])\n",
    "\n",
    "    for i in range(len(df)):\n",
    "        try:\n",
    "            days_WIP[i] = int((str2date(bsc_fin_date[i]) - str2date(act_rel_date[i])).days)\n",
    "        except:\n",
    "            days_WIP[i] = 0\n",
    "\n",
    "        if days_WIP[i] <=0:\n",
    "            days_WIP[i] = 0\n",
    "\n",
    "    df['days WIP'] = days_WIP \n",
    "    #df.drop(['Basic start date', 'Actual start date', 'Scheduled finish', 'Scheduled start', 'Actual Finish Time'], axis = 1, inplace = True)\n",
    "    return(df[['PM Orders actual hours', 'Main work center', 'Actual release date', 'Basic finish date','days WIP']])\n",
    "\n",
    "def sort_by_work_center(df):\n",
    "    df = prep_data(df)\n",
    "    work_centers = list(df['Main work center'].unique())\n",
    "    num_workorder_workcenter = [0.0]*len(work_centers)\n",
    "    days_WIP_work_center = [0.0]*len(work_centers)\n",
    "    days_WIP_work_order_work_center = [0.0]*len(work_centers)\n",
    "    hours_per_work_center = [0.0]*len(work_centers)\n",
    "    hours_per_work_order_work_center = [0.0]*len(work_centers)\n",
    "    sdev_hours_per = [0.0]*len(work_centers)\n",
    "    databyworkcenter = {'work center':work_centers,'num work order': num_workorder_workcenter,\n",
    "                       'days WIP':days_WIP_work_center,'hours':hours_per_work_center,\n",
    "                        'avg days WIP per work order':days_WIP_work_order_work_center,'avg hours per work order':hours_per_work_order_work_center}\n",
    "    byworkcenter = pd.DataFrame(databyworkcenter).reset_index(drop=True)\n",
    "\n",
    "    for i in range(len(byworkcenter)):\n",
    "        work_center = byworkcenter['work center'][i]\n",
    "        byworkcenter['num work order'][i] = len(df[df['Main work center']==work_center]['PM Orders actual hours'])\n",
    "        byworkcenter['days WIP'][i] = sum(df[df['Main work center']==work_center]['days WIP'])\n",
    "        byworkcenter['avg days WIP per work order'][i] = byworkcenter['days WIP'][i]/byworkcenter['num work order'][i]\n",
    "        byworkcenter['hours'][i] = sum(df[df['Main work center']==work_center]['PM Orders actual hours'])\n",
    "        byworkcenter['avg hours per work order'][i] = df[df['Main work center']==work_center]['PM Orders actual hours'].mean()\n",
    "    return(byworkcenter.sort_values(by = 'work center').reset_index(drop = True))"
   ]
  },
  {
   "cell_type": "code",
   "execution_count": 72,
   "metadata": {},
   "outputs": [
    {
     "name": "stderr",
     "output_type": "stream",
     "text": [
      "c:\\users\\olfoa\\appdata\\local\\programs\\python\\python36\\lib\\site-packages\\ipykernel_launcher.py:50: SettingWithCopyWarning: \n",
      "A value is trying to be set on a copy of a slice from a DataFrame\n",
      "\n",
      "See the caveats in the documentation: http://pandas.pydata.org/pandas-docs/stable/user_guide/indexing.html#returning-a-view-versus-a-copy\n",
      "c:\\users\\olfoa\\appdata\\local\\programs\\python\\python36\\lib\\site-packages\\ipykernel_launcher.py:51: SettingWithCopyWarning: \n",
      "A value is trying to be set on a copy of a slice from a DataFrame\n",
      "\n",
      "See the caveats in the documentation: http://pandas.pydata.org/pandas-docs/stable/user_guide/indexing.html#returning-a-view-versus-a-copy\n",
      "c:\\users\\olfoa\\appdata\\local\\programs\\python\\python36\\lib\\site-packages\\ipykernel_launcher.py:52: SettingWithCopyWarning: \n",
      "A value is trying to be set on a copy of a slice from a DataFrame\n",
      "\n",
      "See the caveats in the documentation: http://pandas.pydata.org/pandas-docs/stable/user_guide/indexing.html#returning-a-view-versus-a-copy\n",
      "c:\\users\\olfoa\\appdata\\local\\programs\\python\\python36\\lib\\site-packages\\ipykernel_launcher.py:53: SettingWithCopyWarning: \n",
      "A value is trying to be set on a copy of a slice from a DataFrame\n",
      "\n",
      "See the caveats in the documentation: http://pandas.pydata.org/pandas-docs/stable/user_guide/indexing.html#returning-a-view-versus-a-copy\n",
      "c:\\users\\olfoa\\appdata\\local\\programs\\python\\python36\\lib\\site-packages\\ipykernel_launcher.py:54: SettingWithCopyWarning: \n",
      "A value is trying to be set on a copy of a slice from a DataFrame\n",
      "\n",
      "See the caveats in the documentation: http://pandas.pydata.org/pandas-docs/stable/user_guide/indexing.html#returning-a-view-versus-a-copy\n"
     ]
    }
   ],
   "source": [
    "dataframe = sort_by_work_center(df)"
   ]
  },
  {
   "cell_type": "code",
   "execution_count": 73,
   "metadata": {},
   "outputs": [
    {
     "data": {
      "text/html": [
       "<div>\n",
       "<style scoped>\n",
       "    .dataframe tbody tr th:only-of-type {\n",
       "        vertical-align: middle;\n",
       "    }\n",
       "\n",
       "    .dataframe tbody tr th {\n",
       "        vertical-align: top;\n",
       "    }\n",
       "\n",
       "    .dataframe thead th {\n",
       "        text-align: right;\n",
       "    }\n",
       "</style>\n",
       "<table border=\"1\" class=\"dataframe\">\n",
       "  <thead>\n",
       "    <tr style=\"text-align: right;\">\n",
       "      <th></th>\n",
       "      <th>work center</th>\n",
       "      <th>num work order</th>\n",
       "      <th>days WIP</th>\n",
       "      <th>hours</th>\n",
       "      <th>avg days WIP per work order</th>\n",
       "      <th>avg hours per work order</th>\n",
       "    </tr>\n",
       "  </thead>\n",
       "  <tbody>\n",
       "    <tr>\n",
       "      <td>0</td>\n",
       "      <td>AG-B---2</td>\n",
       "      <td>32.0</td>\n",
       "      <td>1245.0</td>\n",
       "      <td>84.00</td>\n",
       "      <td>38.906250</td>\n",
       "      <td>2.625000</td>\n",
       "    </tr>\n",
       "    <tr>\n",
       "      <td>1</td>\n",
       "      <td>AG-I---2</td>\n",
       "      <td>1549.0</td>\n",
       "      <td>27376.0</td>\n",
       "      <td>4518.75</td>\n",
       "      <td>17.673338</td>\n",
       "      <td>2.917205</td>\n",
       "    </tr>\n",
       "    <tr>\n",
       "      <td>2</td>\n",
       "      <td>AG-LB-V2</td>\n",
       "      <td>329.0</td>\n",
       "      <td>9644.0</td>\n",
       "      <td>270.75</td>\n",
       "      <td>29.313070</td>\n",
       "      <td>0.822948</td>\n",
       "    </tr>\n",
       "    <tr>\n",
       "      <td>3</td>\n",
       "      <td>AG-LH-V2</td>\n",
       "      <td>735.0</td>\n",
       "      <td>14295.0</td>\n",
       "      <td>4597.00</td>\n",
       "      <td>19.448980</td>\n",
       "      <td>6.254422</td>\n",
       "    </tr>\n",
       "    <tr>\n",
       "      <td>4</td>\n",
       "      <td>AG-LL-V2</td>\n",
       "      <td>2000.0</td>\n",
       "      <td>26291.0</td>\n",
       "      <td>6642.50</td>\n",
       "      <td>13.145500</td>\n",
       "      <td>3.321250</td>\n",
       "    </tr>\n",
       "    <tr>\n",
       "      <td>5</td>\n",
       "      <td>AG-LR-V2</td>\n",
       "      <td>911.0</td>\n",
       "      <td>19294.0</td>\n",
       "      <td>4994.00</td>\n",
       "      <td>21.178924</td>\n",
       "      <td>5.481888</td>\n",
       "    </tr>\n",
       "    <tr>\n",
       "      <td>6</td>\n",
       "      <td>AG-LS-V2</td>\n",
       "      <td>1548.0</td>\n",
       "      <td>40066.0</td>\n",
       "      <td>17211.50</td>\n",
       "      <td>25.882429</td>\n",
       "      <td>11.118540</td>\n",
       "    </tr>\n",
       "    <tr>\n",
       "      <td>7</td>\n",
       "      <td>AG-M--W2</td>\n",
       "      <td>551.0</td>\n",
       "      <td>13415.0</td>\n",
       "      <td>2675.00</td>\n",
       "      <td>24.346642</td>\n",
       "      <td>4.854809</td>\n",
       "    </tr>\n",
       "    <tr>\n",
       "      <td>8</td>\n",
       "      <td>AG-N---2</td>\n",
       "      <td>3081.0</td>\n",
       "      <td>62315.0</td>\n",
       "      <td>7692.50</td>\n",
       "      <td>20.225576</td>\n",
       "      <td>2.496754</td>\n",
       "    </tr>\n",
       "    <tr>\n",
       "      <td>9</td>\n",
       "      <td>AG-O--M2</td>\n",
       "      <td>575.0</td>\n",
       "      <td>7185.0</td>\n",
       "      <td>4763.75</td>\n",
       "      <td>12.495652</td>\n",
       "      <td>8.284783</td>\n",
       "    </tr>\n",
       "    <tr>\n",
       "      <td>10</td>\n",
       "      <td>AG-R--E2</td>\n",
       "      <td>99.0</td>\n",
       "      <td>1238.0</td>\n",
       "      <td>1149.00</td>\n",
       "      <td>12.505051</td>\n",
       "      <td>11.606061</td>\n",
       "    </tr>\n",
       "    <tr>\n",
       "      <td>11</td>\n",
       "      <td>AG-S--V2</td>\n",
       "      <td>1767.0</td>\n",
       "      <td>40070.0</td>\n",
       "      <td>5173.00</td>\n",
       "      <td>22.676853</td>\n",
       "      <td>2.927561</td>\n",
       "    </tr>\n",
       "  </tbody>\n",
       "</table>\n",
       "</div>"
      ],
      "text/plain": [
       "   work center  num work order  days WIP     hours  \\\n",
       "0     AG-B---2            32.0    1245.0     84.00   \n",
       "1     AG-I---2          1549.0   27376.0   4518.75   \n",
       "2     AG-LB-V2           329.0    9644.0    270.75   \n",
       "3     AG-LH-V2           735.0   14295.0   4597.00   \n",
       "4     AG-LL-V2          2000.0   26291.0   6642.50   \n",
       "5     AG-LR-V2           911.0   19294.0   4994.00   \n",
       "6     AG-LS-V2          1548.0   40066.0  17211.50   \n",
       "7     AG-M--W2           551.0   13415.0   2675.00   \n",
       "8     AG-N---2          3081.0   62315.0   7692.50   \n",
       "9     AG-O--M2           575.0    7185.0   4763.75   \n",
       "10    AG-R--E2            99.0    1238.0   1149.00   \n",
       "11    AG-S--V2          1767.0   40070.0   5173.00   \n",
       "\n",
       "    avg days WIP per work order  avg hours per work order  \n",
       "0                     38.906250                  2.625000  \n",
       "1                     17.673338                  2.917205  \n",
       "2                     29.313070                  0.822948  \n",
       "3                     19.448980                  6.254422  \n",
       "4                     13.145500                  3.321250  \n",
       "5                     21.178924                  5.481888  \n",
       "6                     25.882429                 11.118540  \n",
       "7                     24.346642                  4.854809  \n",
       "8                     20.225576                  2.496754  \n",
       "9                     12.495652                  8.284783  \n",
       "10                    12.505051                 11.606061  \n",
       "11                    22.676853                  2.927561  "
      ]
     },
     "execution_count": 73,
     "metadata": {},
     "output_type": "execute_result"
    }
   ],
   "source": [
    "dataframe"
   ]
  },
  {
   "cell_type": "code",
   "execution_count": 79,
   "metadata": {},
   "outputs": [],
   "source": [
    "data = prep_data(df)"
   ]
  },
  {
   "cell_type": "code",
   "execution_count": 75,
   "metadata": {},
   "outputs": [],
   "source": [
    "from datetime import date\n",
    "today = date.today()"
   ]
  },
  {
   "cell_type": "code",
   "execution_count": 77,
   "metadata": {},
   "outputs": [
    {
     "data": {
      "text/plain": [
       "datetime.date(2020, 7, 10)"
      ]
     },
     "execution_count": 77,
     "metadata": {},
     "output_type": "execute_result"
    }
   ],
   "source": [
    "today"
   ]
  },
  {
   "cell_type": "code",
   "execution_count": 82,
   "metadata": {},
   "outputs": [
    {
     "data": {
      "text/plain": [
       "datetime.date(2020, 6, 25)"
      ]
     },
     "execution_count": 82,
     "metadata": {},
     "output_type": "execute_result"
    }
   ],
   "source": [
    "str2date(data['Actual release date'][0])"
   ]
  },
  {
   "cell_type": "code",
   "execution_count": null,
   "metadata": {},
   "outputs": [],
   "source": []
  }
 ],
 "metadata": {
  "kernelspec": {
   "display_name": "Python 3",
   "language": "python",
   "name": "python3"
  },
  "language_info": {
   "codemirror_mode": {
    "name": "ipython",
    "version": 3
   },
   "file_extension": ".py",
   "mimetype": "text/x-python",
   "name": "python",
   "nbconvert_exporter": "python",
   "pygments_lexer": "ipython3",
   "version": "3.6.8"
  }
 },
 "nbformat": 4,
 "nbformat_minor": 4
}
