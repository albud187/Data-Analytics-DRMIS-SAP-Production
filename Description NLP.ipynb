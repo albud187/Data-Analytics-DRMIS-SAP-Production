{
 "cells": [
  {
   "cell_type": "code",
   "execution_count": 1,
   "metadata": {},
   "outputs": [],
   "source": [
    "import pandas as pd\n",
    "import numpy as np\n",
    "import time\n",
    "import os\n",
    "\n",
    "import spacy\n",
    "\n",
    "import numpy as np\n",
    "import seaborn as sns\n",
    "import matplotlib.pyplot as plt\n",
    "\n",
    "import tensorflow as tf\n",
    "from tensorflow import keras\n",
    "from tensorflow.keras import Sequential\n",
    "from tensorflow.keras.layers import Flatten, Dense, Dropout, BatchNormalization\n",
    "from tensorflow.keras.layers import Conv1D, MaxPool1D\n",
    "from tensorflow.keras.optimizers import Adam\n",
    "from tensorflow.keras.preprocessing.text import Tokenizer"
   ]
  },
  {
   "cell_type": "code",
   "execution_count": 4,
   "metadata": {},
   "outputs": [],
   "source": [
    "df = pd.read_csv('vehicle_df.csv', index_col = 0).reset_index(drop = True)"
   ]
  },
  {
   "cell_type": "code",
   "execution_count": 6,
   "metadata": {},
   "outputs": [
    {
     "data": {
      "text/html": [
       "<div>\n",
       "<style scoped>\n",
       "    .dataframe tbody tr th:only-of-type {\n",
       "        vertical-align: middle;\n",
       "    }\n",
       "\n",
       "    .dataframe tbody tr th {\n",
       "        vertical-align: top;\n",
       "    }\n",
       "\n",
       "    .dataframe thead th {\n",
       "        text-align: right;\n",
       "    }\n",
       "</style>\n",
       "<table border=\"1\" class=\"dataframe\">\n",
       "  <thead>\n",
       "    <tr style=\"text-align: right;\">\n",
       "      <th></th>\n",
       "      <th>Order</th>\n",
       "      <th>Description</th>\n",
       "      <th>Total planned costs</th>\n",
       "      <th>PM Orders planned hours</th>\n",
       "      <th>Technical Status</th>\n",
       "      <th>PM Orders actual hours</th>\n",
       "      <th>Tail Number / Identifier</th>\n",
       "      <th>User Status</th>\n",
       "      <th>Equipment</th>\n",
       "      <th>MaintActivityType</th>\n",
       "      <th>Main work center</th>\n",
       "      <th>Vehicle Type</th>\n",
       "      <th>Utilizer</th>\n",
       "      <th>Actual release date</th>\n",
       "      <th>Basic finish date</th>\n",
       "      <th>days WIP</th>\n",
       "    </tr>\n",
       "  </thead>\n",
       "  <tbody>\n",
       "    <tr>\n",
       "      <td>0</td>\n",
       "      <td>1102603947</td>\n",
       "      <td>21293-TRUCK CARRYALL INSP-12 MONTH</td>\n",
       "      <td>448.48</td>\n",
       "      <td>4.0</td>\n",
       "      <td>nil</td>\n",
       "      <td>0.0</td>\n",
       "      <td>2017-21293</td>\n",
       "      <td>CRTD</td>\n",
       "      <td>20959842.0</td>\n",
       "      <td>L27</td>\n",
       "      <td>AG-I---2</td>\n",
       "      <td>EV0A80</td>\n",
       "      <td>102</td>\n",
       "      <td>nil</td>\n",
       "      <td>27/07/2020</td>\n",
       "      <td>0</td>\n",
       "    </tr>\n",
       "    <tr>\n",
       "      <td>1</td>\n",
       "      <td>1102603946</td>\n",
       "      <td>20031-TRK CARGO TO 3 1/2 PERIODIC INSPEC</td>\n",
       "      <td>448.48</td>\n",
       "      <td>4.0</td>\n",
       "      <td>nil</td>\n",
       "      <td>0.0</td>\n",
       "      <td>2017-20031</td>\n",
       "      <td>CRTD</td>\n",
       "      <td>20938634.0</td>\n",
       "      <td>L27</td>\n",
       "      <td>AG-I---2</td>\n",
       "      <td>EV0B16</td>\n",
       "      <td>102</td>\n",
       "      <td>nil</td>\n",
       "      <td>27/07/2020</td>\n",
       "      <td>0</td>\n",
       "    </tr>\n",
       "    <tr>\n",
       "      <td>2</td>\n",
       "      <td>1102603468</td>\n",
       "      <td>16650-TRK CARGO TO 3 1/2 T INSP-12 MONTH</td>\n",
       "      <td>448.48</td>\n",
       "      <td>4.0</td>\n",
       "      <td>nil</td>\n",
       "      <td>0.0</td>\n",
       "      <td>2015-16650</td>\n",
       "      <td>CRTD</td>\n",
       "      <td>20895249.0</td>\n",
       "      <td>L27</td>\n",
       "      <td>AG-I---2</td>\n",
       "      <td>EV0B16</td>\n",
       "      <td>102</td>\n",
       "      <td>nil</td>\n",
       "      <td>25/07/2020</td>\n",
       "      <td>0</td>\n",
       "    </tr>\n",
       "    <tr>\n",
       "      <td>3</td>\n",
       "      <td>1102602653</td>\n",
       "      <td>22711-FORKLIFT ICED RT  INSP-12 MONTH</td>\n",
       "      <td>448.48</td>\n",
       "      <td>4.0</td>\n",
       "      <td>nil</td>\n",
       "      <td>0.0</td>\n",
       "      <td>2017-22711</td>\n",
       "      <td>CRTD</td>\n",
       "      <td>21019809.0</td>\n",
       "      <td>L27</td>\n",
       "      <td>AG-S--V2</td>\n",
       "      <td>EV0F81</td>\n",
       "      <td>102</td>\n",
       "      <td>nil</td>\n",
       "      <td>23/07/2020</td>\n",
       "      <td>0</td>\n",
       "    </tr>\n",
       "    <tr>\n",
       "      <td>4</td>\n",
       "      <td>1102602646</td>\n",
       "      <td>18070-TRK CARGO TO 3 1/2 T INSP-12 MONTH</td>\n",
       "      <td>448.48</td>\n",
       "      <td>4.0</td>\n",
       "      <td>nil</td>\n",
       "      <td>0.0</td>\n",
       "      <td>2016-18070</td>\n",
       "      <td>CRTD</td>\n",
       "      <td>20916080.0</td>\n",
       "      <td>L27</td>\n",
       "      <td>AG-I---2</td>\n",
       "      <td>EV0B16</td>\n",
       "      <td>102</td>\n",
       "      <td>nil</td>\n",
       "      <td>23/07/2020</td>\n",
       "      <td>0</td>\n",
       "    </tr>\n",
       "  </tbody>\n",
       "</table>\n",
       "</div>"
      ],
      "text/plain": [
       "        Order                               Description Total planned costs  \\\n",
       "0  1102603947        21293-TRUCK CARRYALL INSP-12 MONTH              448.48   \n",
       "1  1102603946  20031-TRK CARGO TO 3 1/2 PERIODIC INSPEC              448.48   \n",
       "2  1102603468  16650-TRK CARGO TO 3 1/2 T INSP-12 MONTH              448.48   \n",
       "3  1102602653     22711-FORKLIFT ICED RT  INSP-12 MONTH              448.48   \n",
       "4  1102602646  18070-TRK CARGO TO 3 1/2 T INSP-12 MONTH              448.48   \n",
       "\n",
       "   PM Orders planned hours Technical Status  PM Orders actual hours  \\\n",
       "0                      4.0              nil                     0.0   \n",
       "1                      4.0              nil                     0.0   \n",
       "2                      4.0              nil                     0.0   \n",
       "3                      4.0              nil                     0.0   \n",
       "4                      4.0              nil                     0.0   \n",
       "\n",
       "  Tail Number / Identifier User Status   Equipment MaintActivityType  \\\n",
       "0               2017-21293        CRTD  20959842.0               L27   \n",
       "1               2017-20031        CRTD  20938634.0               L27   \n",
       "2               2015-16650        CRTD  20895249.0               L27   \n",
       "3               2017-22711        CRTD  21019809.0               L27   \n",
       "4               2016-18070        CRTD  20916080.0               L27   \n",
       "\n",
       "  Main work center Vehicle Type  Utilizer Actual release date  \\\n",
       "0         AG-I---2       EV0A80       102                 nil   \n",
       "1         AG-I---2       EV0B16       102                 nil   \n",
       "2         AG-I---2       EV0B16       102                 nil   \n",
       "3         AG-S--V2       EV0F81       102                 nil   \n",
       "4         AG-I---2       EV0B16       102                 nil   \n",
       "\n",
       "  Basic finish date  days WIP  \n",
       "0        27/07/2020         0  \n",
       "1        27/07/2020         0  \n",
       "2        25/07/2020         0  \n",
       "3        23/07/2020         0  \n",
       "4        23/07/2020         0  "
      ]
     },
     "execution_count": 6,
     "metadata": {},
     "output_type": "execute_result"
    }
   ],
   "source": [
    "df.head()"
   ]
  },
  {
   "cell_type": "code",
   "execution_count": 17,
   "metadata": {},
   "outputs": [],
   "source": [
    "text = df['Description'].tolist()\n",
    "token = Tokenizer()\n",
    "token.fit_on_texts(text)\n",
    "vocab = len(token.index_word) + 1\n",
    "encoded_text = token.texts_to_sequences(text)"
   ]
  },
  {
   "cell_type": "code",
   "execution_count": 25,
   "metadata": {},
   "outputs": [],
   "source": [
    "text_lengths = [len(x) for x in encoded_text]"
   ]
  },
  {
   "cell_type": "code",
   "execution_count": 27,
   "metadata": {},
   "outputs": [
    {
     "data": {
      "text/plain": [
       "12"
      ]
     },
     "execution_count": 27,
     "metadata": {},
     "output_type": "execute_result"
    }
   ],
   "source": [
    "max(text_lengths)"
   ]
  },
  {
   "cell_type": "code",
   "execution_count": 47,
   "metadata": {},
   "outputs": [
    {
     "name": "stdout",
     "output_type": "stream",
     "text": [
      "0 days WIP ---> 3848 work orders\n",
      "1 days WIP ---> 3621 work orders\n",
      "2 days WIP ---> 3521 work orders\n",
      "3 days WIP ---> 3431 work orders\n",
      "4 days WIP ---> 3363 work orders\n",
      "5 days WIP ---> 3292 work orders\n",
      "6 days WIP ---> 3191 work orders\n",
      "7 days WIP ---> 3076 work orders\n",
      "8 days WIP ---> 3003 work orders\n",
      "9 days WIP ---> 2957 work orders\n",
      "10 days WIP ---> 2916 work orders\n",
      "11 days WIP ---> 2865 work orders\n",
      "12 days WIP ---> 2816 work orders\n",
      "13 days WIP ---> 2758 work orders\n",
      "14 days WIP ---> 2683 work orders\n",
      "15 days WIP ---> 2634 work orders\n",
      "16 days WIP ---> 2596 work orders\n",
      "17 days WIP ---> 2569 work orders\n",
      "18 days WIP ---> 2540 work orders\n",
      "19 days WIP ---> 2515 work orders\n",
      "20 days WIP ---> 2479 work orders\n",
      "21 days WIP ---> 2441 work orders\n",
      "22 days WIP ---> 2409 work orders\n",
      "23 days WIP ---> 2385 work orders\n",
      "24 days WIP ---> 2350 work orders\n",
      "25 days WIP ---> 2315 work orders\n",
      "26 days WIP ---> 2292 work orders\n",
      "27 days WIP ---> 2237 work orders\n",
      "28 days WIP ---> 2179 work orders\n",
      "29 days WIP ---> 2131 work orders\n",
      "30 days WIP ---> 2056 work orders\n",
      "31 days WIP ---> 1857 work orders\n",
      "32 days WIP ---> 1694 work orders\n",
      "33 days WIP ---> 1645 work orders\n",
      "34 days WIP ---> 1528 work orders\n",
      "35 days WIP ---> 1128 work orders\n",
      "36 days WIP ---> 1014 work orders\n",
      "37 days WIP ---> 994 work orders\n",
      "38 days WIP ---> 970 work orders\n",
      "39 days WIP ---> 953 work orders\n",
      "40 days WIP ---> 938 work orders\n",
      "41 days WIP ---> 920 work orders\n",
      "42 days WIP ---> 900 work orders\n",
      "43 days WIP ---> 876 work orders\n",
      "44 days WIP ---> 862 work orders\n",
      "45 days WIP ---> 848 work orders\n",
      "46 days WIP ---> 836 work orders\n",
      "47 days WIP ---> 829 work orders\n",
      "48 days WIP ---> 821 work orders\n",
      "49 days WIP ---> 790 work orders\n"
     ]
    }
   ],
   "source": [
    "for i in range(0,50):\n",
    "    print(str(i) + ' days WIP ---> ' + str(len(df[df['days WIP']>i])) + ' work orders')\n"
   ]
  },
  {
   "cell_type": "code",
   "execution_count": 31,
   "metadata": {},
   "outputs": [
    {
     "data": {
      "text/plain": [
       "count    7838.000000\n",
       "mean        5.166050\n",
       "std        10.345569\n",
       "min         0.000000\n",
       "25%         1.000000\n",
       "50%         3.000000\n",
       "75%         5.000000\n",
       "max       168.000000\n",
       "Name: PM Orders actual hours, dtype: float64"
      ]
     },
     "execution_count": 31,
     "metadata": {},
     "output_type": "execute_result"
    }
   ],
   "source": [
    "df['PM Orders actual hours'].describe()"
   ]
  },
  {
   "cell_type": "code",
   "execution_count": null,
   "metadata": {},
   "outputs": [],
   "source": [
    "#create ranges of days WIP"
   ]
  }
 ],
 "metadata": {
  "kernelspec": {
   "display_name": "Python 3",
   "language": "python",
   "name": "python3"
  },
  "language_info": {
   "codemirror_mode": {
    "name": "ipython",
    "version": 3
   },
   "file_extension": ".py",
   "mimetype": "text/x-python",
   "name": "python",
   "nbconvert_exporter": "python",
   "pygments_lexer": "ipython3",
   "version": "3.6.8"
  }
 },
 "nbformat": 4,
 "nbformat_minor": 4
}
